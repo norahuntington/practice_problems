{
 "cells": [
  {
   "cell_type": "markdown",
   "metadata": {},
   "source": [
    "# Practice Problems\n",
    "\n",
    "### Modeling Questions\n",
    "\n",
    "#### Question 1\n",
    "\n",
    "I'm trying to build a random forest classifier model that uses the data in sklearn's load_iris dataset to predict the type of Iris based on four features. My code below won't run. What did I do wrong?"
   ]
  },
  {
   "cell_type": "code",
   "execution_count": null,
   "metadata": {},
   "outputs": [],
   "source": [
    "from sklearn.datasets import load_iris\n",
    "from sklearn.model_selection import train_test_split\n",
    "from sklearn.ensemble import RandomForestClassifier\n",
    "from sklearn.metrics import accuracy_score\n",
    "\n",
    "data = load_iris()\n",
    "X, y = data.data, data.target\n",
    "X_train, X_test, y_train, y_test = train_test_split(X,y)\n",
    "\n",
    "model = RandomForestClassifier()\n",
    "model.fit(X_train,y_train)\n",
    "score = accuracy_score(X_test, y_test)\n",
    "score"
   ]
  },
  {
   "cell_type": "markdown",
   "metadata": {},
   "source": [
    "#### Question 2\n",
    "\n",
    "I'm trying to predict using a simple linear regression model with one feature. This model is so simple that my target variable is just 10 times the value of my feature. (I give it a 1, I get 10 back etc.)\n",
    "\n",
    "For practice, I decide to standardize my feature before fitting my model. Below is my code. It runs ok, but the output doesn't look right. I expected my predictions for [10,11,12] to be [100,110,120], but that isn't what I'm getting. What am I doing wrong?"
   ]
  },
  {
   "cell_type": "code",
   "execution_count": null,
   "metadata": {},
   "outputs": [],
   "source": [
    "import numpy as np\n",
    "from sklearn.preprocessing import StandardScaler\n",
    "from sklearn.linear_model import LinearRegression\n",
    "\n",
    "X_train = np.array([1,2,3,4,5]).reshape(-1,1)\n",
    "y_train = X_train*10\n",
    "X_test = np.array([10,11,12]).reshape(-1,1)\n",
    "\n",
    "scaler = StandardScaler()\n",
    "scaled_X_train = scaler.fit_transform(X_train)\n",
    "scaled_X_test = scaler.fit_transform(X_test)\n",
    "\n",
    "model = LinearRegression()\n",
    "model.fit(scaled_X_train, y_train)\n",
    "pred = model.predict(scaled_X_test)\n",
    "pred"
   ]
  },
  {
   "cell_type": "markdown",
   "metadata": {},
   "source": [
    "### Python Questions\n",
    "\n",
    "#### Question 1\n",
    "\n",
    "Write a function that sums all numbers less than a given number that are multiples of 3 or 5. \n",
    "\n",
    "Example:\n",
    "\n",
    "    10 => 23 (3+5+6+9)"
   ]
  },
  {
   "cell_type": "code",
   "execution_count": null,
   "metadata": {},
   "outputs": [],
   "source": [
    "def solution(number):\n",
    "    pass\n",
    "\n",
    "test_num = 10\n",
    "solution(test_num)"
   ]
  },
  {
   "cell_type": "markdown",
   "metadata": {},
   "source": [
    "#### Question 2\n",
    "\n",
    "Write a function that takes a number, squares every digit of that number and concatenates the result into a new number.\n",
    "\n",
    "Example:\n",
    "\n",
    "    91134 => 8111916"
   ]
  },
  {
   "cell_type": "code",
   "execution_count": null,
   "metadata": {},
   "outputs": [],
   "source": [
    "def square_digits(num):\n",
    "    pass\n",
    "\n",
    "test_number = 91134\n",
    "square_digits(test_number)"
   ]
  },
  {
   "cell_type": "markdown",
   "metadata": {},
   "source": [
    "#### Question 3\n",
    "\n",
    "You live in the city of Cartesia where all roads are laid out in a perfect grid. You arrived ten minutes too early to an appointment, so you decided to take the opportunity to go for a short walk. The city provides its citizens with a Walk Generating App on their phones -- everytime you press the button it sends you an array of one-letter strings representing directions to walk (eg. ['n', 's', 'w', 'e']). You always walk only a single block for each letter and you know it takes you one minute to traverse one city block. Create a function that will return true if the walk the app gives you will take you exactly ten minutes (you don't want to be early or late!) and will, of course, return you to your starting point. Return false otherwise.\n",
    "\n",
    "Examples:\n",
    "    \n",
    "    ['e','w','e','w','n','s','n','s','e','w'] => true\n",
    "    \n",
    "    ['w','e','s','n'] => false"
   ]
  },
  {
   "cell_type": "code",
   "execution_count": null,
   "metadata": {},
   "outputs": [],
   "source": [
    "def isValidWalk(walk):\n",
    "    pass\n",
    "\n",
    "pass_walk = ['e','w','e','w','n','s','n','s','e','w']\n",
    "fail_walk = ['w','e','s','n']\n",
    "isValidWalk(fail_walk)"
   ]
  },
  {
   "cell_type": "markdown",
   "metadata": {},
   "source": [
    "#### Question 4\n",
    "\n",
    "Write a function that takes a string and determines if the order of the parentheses is valid. The function should return true if the string is valid, and false if it's invalid. The input may contain other characters or may be empty and/or not contain any parentheses at all. Do not treat other forms of brackets as parentheses (e.g. [], {}, <>).\n",
    "\n",
    "Examples:\n",
    "\n",
    "    \"()\"                            =>  true\n",
    "\n",
    "    \")((hello)))\"                   =>  false\n",
    "\n",
    "    \"(\"                             =>  false\n",
    "\n",
    "    \"a(b(c)d)e(f/(g(h.)()i)jk(l))\"  =>  true"
   ]
  },
  {
   "cell_type": "code",
   "execution_count": null,
   "metadata": {},
   "outputs": [],
   "source": [
    "def valid_parentheses(string):\n",
    "    pass\n",
    "\n",
    "test_string = '(testing()to see)(if this_works)'\n",
    "valid_parentheses(test_string)"
   ]
  },
  {
   "cell_type": "markdown",
   "metadata": {},
   "source": [
    "#### Question 5\n",
    "\n",
    "The edit distance between two strings refers to the minimum number of character insertions, deletions, and substitutions required to change one string to the other. Write a function that will compute the edit distance between two given strings. Assume all strings are in lowercase, and you can only add/subtract from the end of a string.\n",
    "\n",
    "Examples:\n",
    "\n",
    "    \"kitten\" to \"sitting\" => 3\n",
    "        substitute \"k\" for \"s\", \"e\" for \"i\", and append a \"g\"\n",
    "        \n",
    "    \"input\" to \"put\" => 5\n",
    "        substitute \"i\" for \"p\", \"n\" for \"u\", \"p\" for \"t\", delete \"u\" and \"t\" "
   ]
  },
  {
   "cell_type": "code",
   "execution_count": null,
   "metadata": {},
   "outputs": [],
   "source": [
    "def edit_distance(string1, string2):\n",
    "    pass\n",
    "\n",
    "str1 = 'kitten'\n",
    "str2 = 'sitting'\n",
    "edit_distance(str1,str2)"
   ]
  },
  {
   "cell_type": "markdown",
   "metadata": {},
   "source": [
    "### Probability Questions\n",
    "\n",
    "#### Question 1\n",
    "\n",
    "A jar has 1000 coins, of which 999 are fair and 1 is double headed. Pick a coin at random, and toss it 10 times. Given that you see 10 heads, what is the probability that the next toss of that coin is also a head?"
   ]
  },
  {
   "cell_type": "code",
   "execution_count": null,
   "metadata": {},
   "outputs": [],
   "source": []
  },
  {
   "cell_type": "markdown",
   "metadata": {},
   "source": [
    "#### Question 2\n",
    "\n",
    "A hunter has two hunting dogs. One day, on the trail of some animal, the hunter comes to a place where the road diverges into two paths. He knows that each dog, independent of the other, will choose the correct path with probability `p`. The hunter decides to let each dog choose a path, and if they agree, he takes that one, and if they disagree, he randomly picks a path. Is his strategy better than just letting one of the two dogs decide on a path? Explain why or why not."
   ]
  },
  {
   "cell_type": "code",
   "execution_count": null,
   "metadata": {},
   "outputs": [],
   "source": []
  },
  {
   "cell_type": "markdown",
   "metadata": {},
   "source": [
    "### Pandas / Matplotlib Questions\n",
    "\n",
    "#### Question 1\n",
    "\n",
    "Using the load_diabetes dataset from sklearn, create a pandas dataframe."
   ]
  },
  {
   "cell_type": "code",
   "execution_count": null,
   "metadata": {},
   "outputs": [],
   "source": [
    "import pandas as pd\n",
    "from sklearn.datasets import load_diabetes"
   ]
  },
  {
   "cell_type": "markdown",
   "metadata": {},
   "source": [
    "#### Question 2\n",
    "\n",
    "Find the mean BMI of all patients in the top quartile of age."
   ]
  },
  {
   "cell_type": "code",
   "execution_count": null,
   "metadata": {},
   "outputs": [],
   "source": []
  },
  {
   "cell_type": "markdown",
   "metadata": {},
   "source": [
    "#### Question 3\n",
    "\n",
    "Create a scatter plot for each feature vs the target variable."
   ]
  },
  {
   "cell_type": "code",
   "execution_count": null,
   "metadata": {},
   "outputs": [],
   "source": [
    "import matplotlib.pyplot as plt"
   ]
  }
 ],
 "metadata": {
  "kernelspec": {
   "display_name": "Python 3",
   "language": "python",
   "name": "python3"
  },
  "language_info": {
   "codemirror_mode": {
    "name": "ipython",
    "version": 3
   },
   "file_extension": ".py",
   "mimetype": "text/x-python",
   "name": "python",
   "nbconvert_exporter": "python",
   "pygments_lexer": "ipython3",
   "version": "3.7.9"
  }
 },
 "nbformat": 4,
 "nbformat_minor": 4
}
